{
 "cells": [
  {
   "cell_type": "code",
   "execution_count": 4,
   "id": "ca2a73b7-fca2-4e02-87c3-461e961fdb6d",
   "metadata": {},
   "outputs": [
    {
     "name": "stdout",
     "output_type": "stream",
     "text": [
      "Requirement already satisfied: textblob in c:\\users\\erraj\\downloads\\new folder\\lib\\site-packages (0.19.0)\n",
      "Requirement already satisfied: nltk>=3.9 in c:\\users\\erraj\\downloads\\new folder\\lib\\site-packages (from textblob) (3.9.1)\n",
      "Requirement already satisfied: click in c:\\users\\erraj\\downloads\\new folder\\lib\\site-packages (from nltk>=3.9->textblob) (8.1.7)\n",
      "Requirement already satisfied: joblib in c:\\users\\erraj\\downloads\\new folder\\lib\\site-packages (from nltk>=3.9->textblob) (1.4.2)\n",
      "Requirement already satisfied: regex>=2021.8.3 in c:\\users\\erraj\\downloads\\new folder\\lib\\site-packages (from nltk>=3.9->textblob) (2024.9.11)\n",
      "Requirement already satisfied: tqdm in c:\\users\\erraj\\downloads\\new folder\\lib\\site-packages (from nltk>=3.9->textblob) (4.66.5)\n",
      "Requirement already satisfied: colorama in c:\\users\\erraj\\appdata\\roaming\\python\\python312\\site-packages (from click->nltk>=3.9->textblob) (0.4.6)\n"
     ]
    },
    {
     "name": "stderr",
     "output_type": "stream",
     "text": [
      "C:\\Users\\erraj\\Downloads\\New folder\\python.exe: No module named textb\n"
     ]
    }
   ],
   "source": [
    "!pip install textblob\n",
    "!python -m textb\n"
   ]
  },
  {
   "cell_type": "code",
   "execution_count": 5,
   "id": "fa4ae10d-ffcd-4fc0-8a43-78764b4a1bd8",
   "metadata": {},
   "outputs": [
    {
     "name": "stdout",
     "output_type": "stream",
     "text": [
      "Finished.\n"
     ]
    },
    {
     "name": "stderr",
     "output_type": "stream",
     "text": [
      "[nltk_data] Downloading package brown to\n",
      "[nltk_data]     C:\\Users\\erraj\\AppData\\Roaming\\nltk_data...\n",
      "[nltk_data]   Package brown is already up-to-date!\n",
      "[nltk_data] Downloading package punkt_tab to\n",
      "[nltk_data]     C:\\Users\\erraj\\AppData\\Roaming\\nltk_data...\n",
      "[nltk_data]   Package punkt_tab is already up-to-date!\n",
      "[nltk_data] Downloading package wordnet to\n",
      "[nltk_data]     C:\\Users\\erraj\\AppData\\Roaming\\nltk_data...\n",
      "[nltk_data]   Package wordnet is already up-to-date!\n",
      "[nltk_data] Downloading package averaged_perceptron_tagger_eng to\n",
      "[nltk_data]     C:\\Users\\erraj\\AppData\\Roaming\\nltk_data...\n",
      "[nltk_data]   Package averaged_perceptron_tagger_eng is already up-to-\n",
      "[nltk_data]       date!\n",
      "[nltk_data] Downloading package conll2000 to\n",
      "[nltk_data]     C:\\Users\\erraj\\AppData\\Roaming\\nltk_data...\n",
      "[nltk_data]   Package conll2000 is already up-to-date!\n",
      "[nltk_data] Downloading package movie_reviews to\n",
      "[nltk_data]     C:\\Users\\erraj\\AppData\\Roaming\\nltk_data...\n",
      "[nltk_data]   Package movie_reviews is already up-to-date!\n"
     ]
    }
   ],
   "source": [
    "!python -m textblob.download_corpora\n"
   ]
  },
  {
   "cell_type": "code",
   "execution_count": 13,
   "id": "fb1ae158-84ac-4f07-83de-a9a125015c3b",
   "metadata": {},
   "outputs": [
    {
     "name": "stdout",
     "output_type": "stream",
     "text": [
      "Hello! How are you? Share what's on your mind:\n"
     ]
    },
    {
     "name": "stdin",
     "output_type": "stream",
     "text": [
      ">>  Life is so hard and painful.\n"
     ]
    },
    {
     "name": "stdout",
     "output_type": "stream",
     "text": [
      "😔 You seem a bit sad.\n"
     ]
    }
   ],
   "source": [
    "from textblob import TextBlob\n",
    "\n",
    "def detect_mood(user_input):\n",
    "    # Create a TextBlob object\n",
    "    analysis = TextBlob(user_input)\n",
    "    polarity = analysis.sentiment.polarity\n",
    "\n",
    "    # Detect mood based on polarity\n",
    "    if polarity > 0.2:\n",
    "        return \"😊 Looks like you're in a good mood (Happy).\"\n",
    "    elif polarity < -0.2:\n",
    "        return \"😔 You seem a bit sad.\"\n",
    "    elif -0.2 <= polarity <= 0.2:\n",
    "        return \"😐 Your mood seems neutral.\"\n",
    "    else:\n",
    "        return \"🤔 Couldn't understand the mood, please tell me more.\"\n",
    "\n",
    "# Main program\n",
    "print(\"Hello! How are you? Share what's on your mind:\")\n",
    "user_text = input(\">> \")\n",
    "\n",
    "result = detect_mood(user_text)\n",
    "print(result)"
   ]
  },
  {
   "cell_type": "code",
   "execution_count": null,
   "id": "e337c3ec-8a9c-499e-b5db-5ae5d88e7550",
   "metadata": {},
   "outputs": [],
   "source": [
    "Life is so hard and painful.\n",
    "I went to the market today.\n",
    "Life is beautiful and I am so happy."
   ]
  }
 ],
 "metadata": {
  "kernelspec": {
   "display_name": "Python 3 (ipykernel)",
   "language": "python",
   "name": "python3"
  },
  "language_info": {
   "codemirror_mode": {
    "name": "ipython",
    "version": 3
   },
   "file_extension": ".py",
   "mimetype": "text/x-python",
   "name": "python",
   "nbconvert_exporter": "python",
   "pygments_lexer": "ipython3",
   "version": "3.12.7"
  }
 },
 "nbformat": 4,
 "nbformat_minor": 5
}
